{
 "cells": [
  {
   "cell_type": "markdown",
   "metadata": {},
   "source": [
    "# Simple Rasa NLP Example"
   ]
  },
  {
   "cell_type": "markdown",
   "metadata": {},
   "source": [
    "## Step 1 \n",
    "\n",
    "Import required Libraries "
   ]
  },
  {
   "cell_type": "code",
   "execution_count": null,
   "metadata": {},
   "outputs": [],
   "source": [
    "from rasa.nlu.training_data import load_data\n",
    "from rasa.nlu import config\n",
    "from rasa.nlu.model import Trainer\n",
    "import logging\n",
    "import os\n",
    "import shutil\n"
   ]
  },
  {
   "cell_type": "markdown",
   "metadata": {},
   "source": [
    "## Step 2 \n",
    "\n",
    "Create data directory in project home if it does not exists or delete existing contents and re create "
   ]
  },
  {
   "cell_type": "code",
   "execution_count": null,
   "metadata": {},
   "outputs": [],
   "source": [
    "# create Data directory\n",
    "\n",
    "current_home = os.getcwd()\n",
    "if os.path.isdir(current_home+\"/data\") is False:\n",
    "    os.mkdir(current_home+\"/data\")\n",
    "else:\n",
    "    shutil.rmtree(current_home+\"/data\")\n",
    "    os.mkdir(current_home+\"/data\")"
   ]
  },
  {
   "cell_type": "markdown",
   "metadata": {},
   "source": [
    "## Step 3 \n",
    "\n",
    "Create training data and config file "
   ]
  },
  {
   "cell_type": "code",
   "execution_count": null,
   "metadata": {},
   "outputs": [],
   "source": [
    "# create Training data\n",
    "\n",
    "training_data = \"\"\"\n",
    "## intent:greet\n",
    "- hi there\n",
    "- hello \n",
    "- how are you \n",
    "\n",
    "## intent:goodbye\n",
    "- goodbye \n",
    "- bye \n",
    "- tc\n",
    "- bye bye\n",
    "\n",
    "## intent:identify_part\n",
    "- part number is [AB3322](part_number)\n",
    "- item number is [BN4345](part_number)\n",
    "- its [NM3344](part_number)\n",
    "- part is [IK7788](part_number)\n",
    "- [BN5654](part_number) is the item number \n",
    "- its # [IK8787](part_number)\n",
    "- the # is [89d89](part_number)\n",
    "\"\"\"\n",
    "\n",
    "config_data = \"\"\"\n",
    "language: \"en\"\n",
    "\n",
    "pipeline: \"supervised_embeddings\"\n",
    "\"\"\""
   ]
  },
  {
   "cell_type": "markdown",
   "metadata": {},
   "source": [
    "## Step 4 \n",
    "Write Training data and config file back to disk "
   ]
  },
  {
   "cell_type": "code",
   "execution_count": null,
   "metadata": {},
   "outputs": [],
   "source": [
    "f = open(current_home+\"/data/\"+\"nlu.md\", \"w\")\n",
    "f.write(training_data)\n",
    "f.close()\n",
    "\n",
    "c = open(current_home+\"/data/\"+\"config.yml\", \"w\")\n",
    "c.write(config_data)\n",
    "c.close()"
   ]
  },
  {
   "cell_type": "markdown",
   "metadata": {},
   "source": [
    "## Step 5 \n",
    "Train the RASA model with the training data "
   ]
  },
  {
   "cell_type": "code",
   "execution_count": null,
   "metadata": {},
   "outputs": [],
   "source": [
    "# Specify the Training files\n",
    "\n",
    "training_data_file = current_home+\"/data/\"+\"nlu.md\"\n",
    "config_file = current_home+\"/data/\"+\"config.yml\"\n",
    "\n",
    "# Train the Model\n",
    "\n",
    "training_data = load_data(training_data_file)\n",
    "trainer = Trainer(config.load(config_file))\n",
    "trainer.train(training_data)"
   ]
  },
  {
   "cell_type": "markdown",
   "metadata": {},
   "source": [
    "## Step 6\n",
    "Persist the RASA Model to disk "
   ]
  },
  {
   "cell_type": "code",
   "execution_count": null,
   "metadata": {},
   "outputs": [],
   "source": [
    "# Save the model\n",
    "model_path = os.path.join(\"models\", \"current\")\n",
    "model_directory = trainer.persist(model_path, fixed_model_name=\"nlu\")\n",
    "\n",
    "print(\"Model trained. Stored in '{}'.\".format(model_directory))\n"
   ]
  },
  {
   "cell_type": "markdown",
   "metadata": {},
   "source": [
    "## Step 7 \n",
    "Load the saved RASA Model for infrence "
   ]
  },
  {
   "cell_type": "code",
   "execution_count": null,
   "metadata": {},
   "outputs": [],
   "source": [
    "# Now lets test\n",
    "from rasa.nlu.model import Interpreter\n",
    "interp=Interpreter.load(model_dir=model_directory)"
   ]
  },
  {
   "cell_type": "markdown",
   "metadata": {},
   "source": [
    "## Step 8\n",
    "\n",
    "Use the model !!"
   ]
  },
  {
   "cell_type": "code",
   "execution_count": null,
   "metadata": {},
   "outputs": [],
   "source": [
    "while True:\n",
    "    print(\"Enter Text - \")\n",
    "    message = input()\n",
    "    output=interp.parse(message)\n",
    "    print(\"______________________________________________________________________________________________________\")\n",
    "    print(\"\\n\")\n",
    "    print(\"Predicted Intent - {}\".format(output['intent']['name']))\n",
    "    print(\"Predicted with confidence {}\".format(output['intent']['confidence']))\n",
    "    for entity in output['entities']:\n",
    "        print(\"Extracted Entity name - {}  and its value {}\".\n",
    "              format(entity['entity'],entity['value']))\n",
    "    print(\"\\n\")\n",
    "    print(\"Raw json Response {}\".format(output))"
   ]
  },
  {
   "cell_type": "code",
   "execution_count": null,
   "metadata": {},
   "outputs": [],
   "source": []
  }
 ],
 "metadata": {
  "kernelspec": {
   "display_name": "Python 3",
   "language": "python",
   "name": "python3"
  },
  "language_info": {
   "codemirror_mode": {
    "name": "ipython",
    "version": 3
   },
   "file_extension": ".py",
   "mimetype": "text/x-python",
   "name": "python",
   "nbconvert_exporter": "python",
   "pygments_lexer": "ipython3",
   "version": "3.7.1"
  }
 },
 "nbformat": 4,
 "nbformat_minor": 2
}
